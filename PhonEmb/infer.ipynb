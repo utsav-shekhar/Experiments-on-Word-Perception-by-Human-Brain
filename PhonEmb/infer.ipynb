{
 "cells": [
  {
   "cell_type": "code",
   "execution_count": 1,
   "metadata": {},
   "outputs": [],
   "source": [
    "import sys\n",
    "from argparse import ArgumentParser, RawTextHelpFormatter\n",
    "import numpy as np\n",
    "import pandas as pd\n",
    "from sklearn.preprocessing import normalize\n",
    "\n",
    "class Dictionary:\n",
    "    def __init__(self, filepath, encoding=\"latin1\"):\n",
    "        self.words = list()\n",
    "        self.lookup = dict()\n",
    "        dictionary = list()\n",
    "\n",
    "        print(\"loading...\", file=sys.stderr)\n",
    "        for i, line in enumerate(open(filepath, encoding=encoding)):\n",
    "            line = line.strip()\n",
    "            word, vec_s = line.split(\"  \")\n",
    "            vec = [float(n) for n in vec_s.split()]\n",
    "            self.lookup[word] = i\n",
    "            dictionary.append(vec)\n",
    "            self.words.append(word)\n",
    "        print(f'Total words: {len(self.words)}', file=sys.stderr)\n",
    "        self.dictionary = np.array(dictionary)\n",
    "        self.norms = normalize(self.dictionary, axis=1)\n",
    "        print('min Norm', np.min(self.norms))\n",
    "        print('max Norm', np.max(self.norms))\n",
    "\n",
    "    def vec(self, word):\n",
    "        return self.dictionary[self.lookup[word.strip().upper()], :]\n",
    "\n",
    "    def score(self, word1, word2):\n",
    "        v1 = self.norms[self.lookup[word1.strip().upper()], :]\n",
    "        v2 = self.norms[self.lookup[word2.strip().upper()], :]\n",
    "        return np.sum(v1*v2)\n",
    "\n",
    "    def word(self, vec, n=None):\n",
    "        v = vec / np.linalg.norm(vec)\n",
    "        dots = np.dot(self.norms, v)\n",
    "        if n is None:\n",
    "            return self.words[np.argmax(dots)]\n",
    "        return [(self.words[x], dots[x]) for x in np.argsort(-dots)[:n]]\n"
   ]
  },
  {
   "cell_type": "code",
   "execution_count": 2,
   "metadata": {},
   "outputs": [
    {
     "name": "stderr",
     "output_type": "stream",
     "text": [
      "loading...\n"
     ]
    },
    {
     "name": "stdout",
     "output_type": "stream",
     "text": [
      "min Norm -0.6210165606884935\n",
      "max Norm 0.6102571871129993\n"
     ]
    },
    {
     "name": "stderr",
     "output_type": "stream",
     "text": [
      "Total words: 133860\n"
     ]
    }
   ],
   "source": [
    "d = Dictionary(\"simvecs\")"
   ]
  },
  {
   "cell_type": "code",
   "execution_count": 3,
   "metadata": {},
   "outputs": [
    {
     "name": "stdout",
     "output_type": "stream",
     "text": [
      "(50,) LOOK\n",
      "[('TWO', 1.0000000000000002), ('TUE', 0.9983326893660539), ('TU', 0.9982340708709736), ('TEW', 0.9979064808393452), ('TOO', 0.9977740077253083), ('THUY', 0.9974699404340962), ('TO', 0.9973053406733928), ('TUTU', 0.9776248355261037), ('TREU', 0.9715127874856855), ('TRUE', 0.9709780187976012)]\n"
     ]
    }
   ],
   "source": [
    "v = d.vec('look')\n",
    "print(v.shape, d.word(v))\n",
    "print(d.word(d.vec('two'), 10))"
   ]
  },
  {
   "cell_type": "code",
   "execution_count": 4,
   "metadata": {},
   "outputs": [
    {
     "name": "stdout",
     "output_type": "stream",
     "text": [
      "[('TURNING', 0.9793758767291694), ('TERMING', 0.9323801622938123), ('CHURNING', 0.8997649785298691), ('TWIRLING', 0.8910618371075985), ('TOWERING', 0.8901059772709727)]\n",
      "[('JUMPED', 0.9488281100764806), ('DUMPED', 0.8792958295473174), ('JUMP', 0.8662129216397209), ('JUMPSUIT', 0.8385106402802855), ('JEMMOTT', 0.8171843522911427)]\n",
      "[('UNCOMFORTABLE', 0.9154567768829316), ('UNWORKABLE', 0.8917171894794256), ('UNGOVERNABLE', 0.887317599246929), ('UNFORGETTABLE', 0.8847351680369085), ('UNFLAPPABLE', 0.8698138608526698)]\n",
      "[('NON-CONTRACT', 0.896416399901073), ('NONCONTRACT', 0.8927973416634298), ('CONTRACT', 0.8423575801788273), ('TRENTE-ET-QUARANTE', 0.7957182564086372), ('CONTACT', 0.7934639023755785)]\n"
     ]
    }
   ],
   "source": [
    "print(d.word(d.vec('TURN') + d.vec('BURNING') - d.vec('BURN'), 5))\n",
    "print(d.word(d.vec('JUMP') + d.vec('HELPED') - d.vec('HELP'), 5))\n",
    "print(d.word(d.vec('COMFORTABLE') + d.vec('UNCONSCIOUS') - d.vec('CONSCIOUS'), 5))\n",
    "print(d.word(d.vec('CONTRACT') + d.vec('NON-FINANCIAL') - d.vec('FINANCIAL'), 5))"
   ]
  },
  {
   "cell_type": "code",
   "execution_count": null,
   "metadata": {},
   "outputs": [],
   "source": [
    "print(d.word(d.vec('TURN') + d.vec('BURNING') - d.vec('BURN'), 5))"
   ]
  }
 ],
 "metadata": {
  "kernelspec": {
   "display_name": "Python 3",
   "language": "python",
   "name": "python3"
  },
  "language_info": {
   "codemirror_mode": {
    "name": "ipython",
    "version": 3
   },
   "file_extension": ".py",
   "mimetype": "text/x-python",
   "name": "python",
   "nbconvert_exporter": "python",
   "pygments_lexer": "ipython3",
   "version": "3.10.12"
  }
 },
 "nbformat": 4,
 "nbformat_minor": 2
}
